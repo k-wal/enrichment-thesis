{
 "cells": [
  {
   "cell_type": "code",
   "execution_count": 1,
   "id": "09c0e6b5",
   "metadata": {},
   "outputs": [],
   "source": [
    "import json\n",
    "import pandas as pd"
   ]
  },
  {
   "cell_type": "code",
   "execution_count": 2,
   "id": "feebbe44",
   "metadata": {},
   "outputs": [],
   "source": [
    "tag_to_id = {'O': 0,\n",
    "            'B' : 1,\n",
    "            'I' : 2}\n",
    "\n",
    "json_object = json.dumps(tag_to_id)\n",
    "with open('../corpus/tag_to_id.json', 'w') as f:\n",
    "    f.write(json_object)"
   ]
  },
  {
   "cell_type": "code",
   "execution_count": 3,
   "id": "80241c51",
   "metadata": {},
   "outputs": [],
   "source": [
    "def convert_file_to_json(infile, outfile):\n",
    "    df = pd.read_csv(infile)\n",
    "    df = df.dropna()\n",
    "    entries = []\n",
    "    for index, row in df.iterrows():\n",
    "        cur = {}\n",
    "        cur['str_words'] = row['sentence'].split()\n",
    "        tags = row['word_labels'].split(',')\n",
    "        cur['tags'] = [tag_to_id[t] for t in tags]\n",
    "        entries.append(cur)\n",
    "    json_object = json.dumps(entries)\n",
    "    with open(outfile, \"w\") as f:\n",
    "        f.write(json_object)\n",
    "    "
   ]
  },
  {
   "cell_type": "code",
   "execution_count": 6,
   "id": "447f1354",
   "metadata": {},
   "outputs": [],
   "source": [
    "# infile = '../corpus/biored/biored_train_partial_all.csv'\n",
    "# outfile = '../corpus/biored/biored_train_partial_40.json'\n",
    "\n",
    "# infile = '../corpus/biored/biored_test.csv'\n",
    "# outfile = '../corpus/biored/biored_test.json'\n",
    "\n",
    "# infile = '../corpus/biored/biored_dev.csv'\n",
    "# outfile = '../corpus/biored/biored_dev.json'\n",
    "\n",
    "# infile = '../corpus/matscholar/matscholar_train_bio_partial.csv'\n",
    "# outfile = '../corpus/matscholar/matscholar_train_bio_partial.json'\n",
    "\n",
    "# infile = '../corpus/matscholar/matscholar_dev_bio.csv'\n",
    "# outfile = '../corpus/matscholar/matscholar_dev_bio.json'\n",
    "\n",
    "# infile = '../corpus/matscholar/matscholar_test_bio.csv'\n",
    "# outfile = '../corpus/matscholar/matscholar_test_bio.json'\n",
    "\n",
    "# infile = '../corpus/scierc/scierc_test_bio.csv'\n",
    "# outfile = '../corpus/scierc/json/test.json'\n",
    "\n",
    "# infile = '../corpus/scierc/scierc_dev.csv'\n",
    "# outfile = '../corpus/scierc/json/dev.json'\n",
    "\n",
    "infile = '../corpus/scierc/scierc_train_partial.csv'\n",
    "outfile = '../corpus/scierc/json/train.json'\n",
    "\n",
    "convert_file_to_json(infile, outfile)"
   ]
  },
  {
   "cell_type": "code",
   "execution_count": null,
   "id": "89a46cf4",
   "metadata": {
    "collapsed": true
   },
   "outputs": [],
   "source": []
  }
 ],
 "metadata": {
  "kernelspec": {
   "display_name": "Python 3 (ipykernel)",
   "language": "python",
   "name": "python3"
  },
  "language_info": {
   "codemirror_mode": {
    "name": "ipython",
    "version": 3
   },
   "file_extension": ".py",
   "mimetype": "text/x-python",
   "name": "python",
   "nbconvert_exporter": "python",
   "pygments_lexer": "ipython3",
   "version": "3.8.12"
  }
 },
 "nbformat": 4,
 "nbformat_minor": 5
}
