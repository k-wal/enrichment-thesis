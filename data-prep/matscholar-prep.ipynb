{
 "cells": [
  {
   "cell_type": "code",
   "execution_count": 4,
   "id": "5243a426",
   "metadata": {},
   "outputs": [],
   "source": [
    "import pandas as pd\n",
    "from nltk.tokenize import sent_tokenize\n",
    "from tqdm import tqdm\n",
    "import random"
   ]
  },
  {
   "cell_type": "code",
   "execution_count": null,
   "id": "a04e748e",
   "metadata": {},
   "outputs": [],
   "source": []
  },
  {
   "cell_type": "code",
   "execution_count": 2,
   "id": "81e10b4a",
   "metadata": {},
   "outputs": [],
   "source": [
    "# frac: fraction of entities to keep\n",
    "def convert_matscholar_to_bio(filepath, output_path, frac):\n",
    "    file = open(filepath, 'r')\n",
    "    content = file.read()\n",
    "    file.close()\n",
    "    \n",
    "    sections = content.split('\\n\\n')\n",
    "    df = pd.DataFrame(columns=['sentence', 'word_labels'])\n",
    "    removed = 0\n",
    "    kept = 0\n",
    "        \n",
    "    for section in sections: \n",
    "        sentence = []\n",
    "        labels = []\n",
    "        lines = section.split('\\n')\n",
    "        for line in lines:\n",
    "            if line.strip() == '' or line.strip() == 'O':\n",
    "                continue\n",
    "            if len(labels) == 0:\n",
    "                last_label = 'O'\n",
    "            else:\n",
    "                last_label = labels[-1]\n",
    "            \n",
    "            try:\n",
    "                token, label = line.split()[0], line.split()[1][0]\n",
    "            except:\n",
    "                print(line.strip())\n",
    "                \n",
    "            \n",
    "            if label not in ['B', 'I', 'O']:\n",
    "                tokens, label = line.split()[:-1], line.split()[-1][0]\n",
    "                print(tokens, label)\n",
    "                for t in tokens:\n",
    "                    sentence.append(t)\n",
    "                    labels.append(label)\n",
    "                continue\n",
    "            \n",
    "            p = random.random()\n",
    "            if label == 'B' and p > frac:\n",
    "                label = 'O'\n",
    "                removed += 1\n",
    "            elif label == 'B' and p < frac:\n",
    "                kept += 1\n",
    "            elif label == 'I' and last_label == 'O':\n",
    "                label = 'O'\n",
    "            \n",
    "            sentence.append(token)\n",
    "            labels.append(label)\n",
    "        sentence = ' '.join(sentence)\n",
    "        labels = ','.join(labels)\n",
    "        df.loc[len(df)] = {'sentence':sentence, 'word_labels':labels}\n",
    "    \n",
    "    print(\"Removed Entities: \", removed)\n",
    "    print(\"Kept Entities: \", kept)\n",
    "#    df.to_csv(output_path, header=True)\n",
    "    return df"
   ]
  },
  {
   "cell_type": "code",
   "execution_count": 5,
   "id": "51f19244",
   "metadata": {
    "scrolled": false
   },
   "outputs": [
    {
     "name": "stdout",
     "output_type": "stream",
     "text": [
      "['MPam', '1/2'] O\n",
      "['MPam', '1/2'] O\n",
      "Removed Entities:  12250\n",
      "Kept Entities:  8136\n"
     ]
    }
   ],
   "source": [
    "filepath = '../corpus/matscholar/train.txt'\n",
    "#output_path = '../corpus/matscholar/matscholar_train_bio_full.csv'\n",
    "output_path = ''\n",
    "df = convert_matscholar_to_bio(filepath, output_path, 0.4)"
   ]
  },
  {
   "cell_type": "code",
   "execution_count": 81,
   "id": "5127152d",
   "metadata": {},
   "outputs": [],
   "source": [
    "for index, row in df.iterrows():\n",
    "    labels = row['word_labels'].split(',')\n",
    "    labels = [l for l in labels if l not in ['B','I','O']]\n",
    "    if len(labels) != 0:\n",
    "        print(labels)\n",
    "        print(row['sentence'])"
   ]
  },
  {
   "cell_type": "code",
   "execution_count": null,
   "id": "6c7059db",
   "metadata": {},
   "outputs": [],
   "source": []
  },
  {
   "cell_type": "code",
   "execution_count": null,
   "id": "93dece54",
   "metadata": {},
   "outputs": [],
   "source": []
  }
 ],
 "metadata": {
  "kernelspec": {
   "display_name": "Python 3 (ipykernel)",
   "language": "python",
   "name": "python3"
  },
  "language_info": {
   "codemirror_mode": {
    "name": "ipython",
    "version": 3
   },
   "file_extension": ".py",
   "mimetype": "text/x-python",
   "name": "python",
   "nbconvert_exporter": "python",
   "pygments_lexer": "ipython3",
   "version": "3.8.12"
  }
 },
 "nbformat": 4,
 "nbformat_minor": 5
}
