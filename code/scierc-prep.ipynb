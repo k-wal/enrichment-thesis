{
 "cells": [
  {
   "cell_type": "code",
   "execution_count": 1,
   "id": "d6bf19ac",
   "metadata": {},
   "outputs": [],
   "source": [
    "import pandas as pd\n",
    "import nltk\n",
    "from nltk import sent_tokenize\n",
    "import os\n",
    "import spacy\n",
    "from tqdm import tqdm\n",
    "from spacy.tokenizer import Tokenizer\n",
    "import re\n",
    "import random\n",
    "import shutil\n",
    "nlp = spacy.load(\"en_core_web_sm\")\n",
    "\n",
    "import warnings\n",
    "warnings.filterwarnings(\"ignore\", category=FutureWarning) "
   ]
  },
  {
   "cell_type": "code",
   "execution_count": 2,
   "id": "45ed6de3",
   "metadata": {},
   "outputs": [],
   "source": [
    "class DataPrepSciERC():\n",
    "    def __init__(self, dir_path, filename):\n",
    "        self.ann_df, self.text = self.load_annotations(dir_path, filename)\n",
    "\n",
    "        \n",
    "    def load_annotations(self, dir_path, filename):\n",
    "        txt_path = dir_path + '/' + filename + '.txt'\n",
    "        ann_path = dir_path + '/' + filename + '.ann'\n",
    "\n",
    "        # load text\n",
    "        file = open(txt_path, 'r')\n",
    "        text = file.read()\n",
    "        file.close()\n",
    "\n",
    "        # load annotations\n",
    "        file = open(ann_path, 'r')\n",
    "        lines = file.readlines()\n",
    "        file.close()\n",
    "        df = pd.DataFrame(columns=['term_id', 'type', 'beg_idx', 'end_idx', 'entity', 'line'])\n",
    "        for line in lines:\n",
    "            if line[0] != 'T':\n",
    "                continue\n",
    "            line = line.strip()\n",
    "            row = {}\n",
    "            parts = line.split('\\t')\n",
    "            row['term_id'] = parts[0]\n",
    "            row['entity'] = parts[-1]\n",
    "            parts = parts[1].split()\n",
    "            row['beg_idx'], row['end_idx'] = int(parts[1]), int(parts[2])\n",
    "            row['line'] = line\n",
    "            df = df.append(row, ignore_index=True)\n",
    "        \n",
    "        df = df.drop_duplicates(subset=['beg_idx', 'end_idx'], keep='first')\n",
    "        \n",
    "        return df, text\n",
    "                \n",
    "    def convert_bio(self):\n",
    "        df, text = self.ann_df, self.text\n",
    "        \n",
    "        # BIO tagging entire text\n",
    "        doc = nlp(text)\n",
    "        tokens = []\n",
    "        prev_term_id = ''\n",
    "        tags = []\n",
    "\n",
    "        # go through annotations and mark entities in doc with BIO tags\n",
    "        tags = ['O']*len(doc)\n",
    "\n",
    "        for index, row in df.iterrows():\n",
    "            span = doc.char_span(row['beg_idx'], row['end_idx'], alignment_mode='expand')\n",
    "            for token_idx in range(span.start, span.end):\n",
    "                if token_idx == span.start:\n",
    "                    tags[token_idx] = 'B'\n",
    "                else:\n",
    "                    tags[token_idx] = 'I'\n",
    "\n",
    "        # removing tokens that are whitespaces\n",
    "        tokens = []\n",
    "        old_tags = tags\n",
    "        tags = []\n",
    "        for token, tag in zip(doc, old_tags):\n",
    "            if token.text.strip() != '':\n",
    "                tokens.append(token.text)\n",
    "                tags.append(tag)\n",
    "        text = ' '.join(tokens)\n",
    "\n",
    "        # splitting tags and text into sentences\n",
    "        sentences = sent_tokenize(text)\n",
    "        df = pd.DataFrame(columns=['sentence', 'word_labels'])\n",
    "        for sent in sentences:\n",
    "            sent_len = len(sent.split())\n",
    "            cur_tags = ','.join(tags[0:sent_len])\n",
    "            # remove current sentence's tags\n",
    "            tags = tags[sent_len:]\n",
    "            df = df.append({'sentence':sent, 'word_labels':cur_tags}, ignore_index=True)\n",
    "        return df"
   ]
  },
  {
   "cell_type": "code",
   "execution_count": 6,
   "id": "ba4e0e9f",
   "metadata": {},
   "outputs": [],
   "source": [
    "class DataPrepSciERCDir():\n",
    "    def __init__(self):\n",
    "        pass\n",
    "    \n",
    "    def prep_to_bio(self, dir_path):\n",
    "        filenames = [f.split('.')[0] for f in os.listdir(dir_path) if f.split('.')[-1]=='ann']\n",
    "        df = pd.DataFrame(columns=['sentence', 'word_labels'])\n",
    "        for filename in tqdm(filenames):\n",
    "            try:\n",
    "                prepper = DataPrepSciERC(dir_path, filename)\n",
    "                cur_df = prepper.convert_bio()\n",
    "                df = pd.concat([df, cur_df])\n",
    "            except Exception as e: \n",
    "                print(e)\n",
    "        df.to_csv('../corpus/scierc/scierc_train_full.csv', header=True)\n",
    "        return df"
   ]
  },
  {
   "cell_type": "code",
   "execution_count": 4,
   "id": "05c8ca08",
   "metadata": {},
   "outputs": [],
   "source": [
    "class DataPrepSciERCPartial():\n",
    "    def __init__(self, dir_path, filename, to_keep):\n",
    "        self.removed = 0\n",
    "        self.kept = 0\n",
    "        self.ann_df, self.text = self.load_annotations(dir_path, filename, to_keep)\n",
    "        \n",
    "\n",
    "        \n",
    "    def load_annotations(self, dir_path, filename, to_keep):\n",
    "        txt_path = dir_path + '/' + filename + '.txt'\n",
    "        ann_path = dir_path + '/' + filename + '.ann'\n",
    "\n",
    "        # load text\n",
    "        file = open(txt_path, 'r')\n",
    "        text = file.read()\n",
    "        file.close()\n",
    "\n",
    "        # load annotations\n",
    "        file = open(ann_path, 'r')\n",
    "        lines = file.readlines()\n",
    "        file.close()\n",
    "        df = pd.DataFrame(columns=['term_id', 'type', 'beg_idx', 'end_idx', 'entity', 'line'])\n",
    "        for line in lines:\n",
    "            if line[0] != 'T':\n",
    "                continue\n",
    "            # remove annotations higher than a certain amount\n",
    "            if random.random() > to_keep:\n",
    "                self.removed += 1\n",
    "                continue\n",
    "            self.kept += 1\n",
    "            line = line.strip()\n",
    "            row = {}\n",
    "            parts = line.split('\\t')\n",
    "            row['term_id'] = parts[0]\n",
    "            row['entity'] = parts[-1]\n",
    "            parts = parts[1].split()\n",
    "            row['beg_idx'], row['end_idx'] = int(parts[1]), int(parts[2])\n",
    "            row['line'] = line\n",
    "            df = df.append(row, ignore_index=True)\n",
    "        \n",
    "        df = df.drop_duplicates(subset=['beg_idx', 'end_idx'], keep='first')\n",
    "        \n",
    "        return df, text\n",
    "                \n",
    "    def convert_bio(self):\n",
    "        df, text = self.ann_df, self.text\n",
    "        \n",
    "        # BIO tagging entire text\n",
    "        doc = nlp(text)\n",
    "        tokens = []\n",
    "        prev_term_id = ''\n",
    "        tags = []\n",
    "\n",
    "        # go through annotations and mark entities in doc with BIO tags\n",
    "        tags = ['O']*len(doc)\n",
    "\n",
    "        for index, row in df.iterrows():\n",
    "            span = doc.char_span(row['beg_idx'], row['end_idx'], alignment_mode='expand')\n",
    "            for token_idx in range(span.start, span.end):\n",
    "                if token_idx == span.start:\n",
    "                    tags[token_idx] = 'B'\n",
    "                else:\n",
    "                    tags[token_idx] = 'I'\n",
    "\n",
    "        # removing tokens that are whitespaces\n",
    "        tokens = []\n",
    "        old_tags = tags\n",
    "        tags = []\n",
    "        for token, tag in zip(doc, old_tags):\n",
    "            if token.text.strip() != '':\n",
    "                tokens.append(token.text)\n",
    "                tags.append(tag)\n",
    "        text = ' '.join(tokens)\n",
    "\n",
    "        # splitting tags and text into sentences\n",
    "        sentences = sent_tokenize(text)\n",
    "        df = pd.DataFrame(columns=['sentence', 'word_labels'])\n",
    "        for sent in sentences:\n",
    "            sent_len = len(sent.split())\n",
    "            cur_tags = ','.join(tags[0:sent_len])\n",
    "            # remove current sentence's tags\n",
    "            tags = tags[sent_len:]\n",
    "            df = df.append({'sentence':sent, 'word_labels':cur_tags}, ignore_index=True)\n",
    "        return df, self.removed, self.kept"
   ]
  },
  {
   "cell_type": "code",
   "execution_count": 5,
   "id": "7eea9147",
   "metadata": {},
   "outputs": [],
   "source": [
    "class DataPrepSciERCDirPartial():\n",
    "    def __init__(self):\n",
    "        pass\n",
    "    \n",
    "    def prep_to_bio(self, dir_path, to_keep):\n",
    "        filenames = [f.split('.')[0] for f in os.listdir(dir_path) if f.split('.')[-1]=='ann']\n",
    "        df = pd.DataFrame(columns=['sentence', 'word_labels'])\n",
    "        removed, kept = 0, 0\n",
    "        for filename in tqdm(filenames):\n",
    "            try:\n",
    "                prepper = DataPrepSciERCPartial(dir_path, filename, to_keep)\n",
    "                cur_df, cur_removed, cur_kept = prepper.convert_bio()\n",
    "                df = pd.concat([df, cur_df])\n",
    "                removed += cur_removed\n",
    "                kept += cur_kept\n",
    "            except Exception as e: \n",
    "                print(e)\n",
    "        df.to_csv('../corpus/scierc/scierc_train_partial.csv', header=True)\n",
    "        print(\"kept: \", kept)\n",
    "        print(\"removed: \", removed)\n",
    "        return df"
   ]
  },
  {
   "cell_type": "code",
   "execution_count": 7,
   "id": "a751bc89",
   "metadata": {},
   "outputs": [
    {
     "name": "stderr",
     "output_type": "stream",
     "text": [
      "100%|███████████████████████████████████████████████████████████████████████████████████████████████████████████████████████| 400/400 [00:12<00:00, 30.81it/s]\n"
     ]
    }
   ],
   "source": [
    "dir_path = '../corpus/scierc/train_docs'\n",
    "prepper = DataPrepSciERCDir()\n",
    "df = prepper.prep_to_bio(dir_path)"
   ]
  },
  {
   "cell_type": "code",
   "execution_count": 48,
   "id": "3c4f8e42",
   "metadata": {},
   "outputs": [
    {
     "name": "stderr",
     "output_type": "stream",
     "text": [
      "100%|███████████████████████████████████████████████████████████████████████████████████████████████████████████████████████| 400/400 [00:11<00:00, 35.25it/s]"
     ]
    },
    {
     "name": "stdout",
     "output_type": "stream",
     "text": [
      "kept:  2525\n",
      "removed:  3960\n"
     ]
    },
    {
     "name": "stderr",
     "output_type": "stream",
     "text": [
      "\n"
     ]
    }
   ],
   "source": [
    "dir_path = '../corpus/scierc/train_docs'\n",
    "prepper = DataPrepSciERCDirPartial()\n",
    "df = prepper.prep_to_bio(dir_path, 0.4)"
   ]
  },
  {
   "cell_type": "code",
   "execution_count": 17,
   "id": "2983804f",
   "metadata": {},
   "outputs": [],
   "source": [
    "#files = [f.split('.')[0] for f in os.listdir('../corpus/scierc/raw_data') if f.split('.')[-1] == 'ann']"
   ]
  },
  {
   "cell_type": "code",
   "execution_count": 18,
   "id": "c793db1e",
   "metadata": {},
   "outputs": [
    {
     "data": {
      "text/plain": [
       "400"
      ]
     },
     "execution_count": 18,
     "metadata": {},
     "output_type": "execute_result"
    }
   ],
   "source": [
    "#len(files)"
   ]
  },
  {
   "cell_type": "code",
   "execution_count": 19,
   "id": "ecbbf675",
   "metadata": {},
   "outputs": [],
   "source": [
    "# for i, file in enumerate(files):\n",
    "#     if i == 400:\n",
    "#         break\n",
    "#     for ex in ['.ann', '.txt', '.txt.xml']:\n",
    "#         shutil.move('../corpus/scierc/raw_data/' + file + ex, '../corpus/scierc/train_docs/' + file + ex)"
   ]
  },
  {
   "cell_type": "code",
   "execution_count": null,
   "id": "7cf154be",
   "metadata": {},
   "outputs": [],
   "source": []
  }
 ],
 "metadata": {
  "kernelspec": {
   "display_name": "Python 3 (ipykernel)",
   "language": "python",
   "name": "python3"
  },
  "language_info": {
   "codemirror_mode": {
    "name": "ipython",
    "version": 3
   },
   "file_extension": ".py",
   "mimetype": "text/x-python",
   "name": "python",
   "nbconvert_exporter": "python",
   "pygments_lexer": "ipython3",
   "version": "3.8.12"
  }
 },
 "nbformat": 4,
 "nbformat_minor": 5
}
